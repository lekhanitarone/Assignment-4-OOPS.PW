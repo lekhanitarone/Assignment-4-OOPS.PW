{
  "nbformat": 4,
  "nbformat_minor": 0,
  "metadata": {
    "colab": {
      "provenance": []
    },
    "kernelspec": {
      "name": "python3",
      "display_name": "Python 3"
    },
    "language_info": {
      "name": "python"
    }
  },
  "cells": [
    {
      "cell_type": "markdown",
      "source": [
        "\n",
        "**1. What is Object-Oriented Programming (OOP)?**\n",
        ">OOP is a programming paradigm based on the concept of \"objects\", which can contain data and code. It helps structure programs using classes and objects to make code reusable, scalable, and easier to maintain.\n",
        "\n",
        "---\n",
        "\n",
        "**2. What is a class in OOP?**\n",
        ">A class is a blueprint for creating objects. It defines the structure (attributes) and behavior (methods) that the objects created from the class will have.\n",
        "\n",
        "---\n",
        "\n",
        "**3. What is an object in OOP?**\n",
        ">An object is an instance of a class. It represents a real-world entity with attributes (data) and methods (functions) defined by its class.\n",
        "\n",
        "---\n",
        "\n",
        "**4. What is the difference between abstraction and encapsulation?**\n",
        ">Abstraction hides implementation details and shows only the functionality, while encapsulation binds data and methods together and hides the internal state from outside access.\n",
        "\n",
        "---\n",
        "\n",
        "**5. What are dunder methods in Python?**\n",
        ">Dunder (double underscore) methods are special methods like `__init__`, `__str__`, `__len__` used to define how objects behave in built-in operations. They start and end with double underscores.\n",
        "\n",
        "---\n",
        "\n",
        "**6. Explain the concept of inheritance in OOP**\n",
        ">Inheritance allows a class (child) to acquire properties and behaviors from another class (parent). It promotes code reusability and helps create a hierarchy of classes.\n",
        "\n",
        "---\n",
        "\n",
        "**7. What is polymorphism in OOP?**\n",
        ">Polymorphism allows different classes to be treated as instances of the same parent class, enabling methods with the same name to behave differently based on the object.\n",
        "\n",
        "---\n",
        "\n",
        "**8. How is encapsulation achieved in Python?**\n",
        ">Encapsulation is done using private (`_var`, `__var`) variables and providing getter/setter methods. It restricts direct access to class data and ensures controlled modification.\n",
        "\n",
        "---\n",
        "\n",
        "**9. What is a constructor in Python?**\n",
        ">A constructor is a special method `__init__()` that gets called automatically when an object is created. It initializes the object with default or user-defined values.\n",
        "\n",
        "---\n",
        "\n",
        "**10. What are class and static methods in Python?**\n",
        ">Class methods use `@classmethod` and take `cls` as the first argument; they can access class variables. Static methods use `@staticmethod` and don’t access class or instance variables.\n",
        "\n",
        "---\n",
        "\n",
        "**11. What is method overloading in Python?**\n",
        ">Python does not support traditional method overloading. However, default arguments and variable-length arguments (`*args`, `**kwargs`) can simulate similar behavior.\n",
        "\n",
        "---\n",
        "\n",
        "**12. What is method overriding in OOP?**\n",
        ">Method overriding is redefining a method of the parent class in the child class. It allows the child class to provide a specific implementation of a method already defined in its parent.\n",
        "\n",
        "---\n",
        "\n",
        "**13. What is a property decorator in Python?**\n",
        ">The `@property` decorator is used to define getter methods that can be accessed like attributes. It helps create managed attributes without changing how they’re accessed.\n",
        "\n",
        "---\n",
        "\n",
        "**14. Why is polymorphism important in OOP?**\n",
        ">Polymorphism allows flexibility and extensibility in code. It enables writing generic code that works with different objects, improving code reusability and readability.\n",
        "\n",
        "---\n",
        "\n",
        "**15. What is an abstract class in Python?**\n",
        ">An abstract class is a class that cannot be instantiated and usually contains one or more abstract methods defined using the `@abstractmethod` decorator from the `abc` module.\n",
        "\n",
        "---\n",
        "\n",
        "**16. What are the advantages of OOP?**\n",
        ">OOP promotes code reuse through inheritance, improves organization using classes, and ensures security with encapsulation. It also supports scalability and easier debugging.\n",
        "\n",
        "---\n",
        "\n",
        "**17. What is the difference between a class variable and an instance variable?**\n",
        ">Class variables are shared across all instances of a class, while instance variables are unique to each object and defined inside the `__init__` method.\n",
        "\n",
        "---\n",
        "\n",
        "**18. What is multiple inheritance in Python?**\n",
        ">Multiple inheritance means a class can inherit from more than one parent class. Python supports it, but it must be used carefully to avoid conflicts in method resolution order (MRO).\n",
        "\n",
        "\n"
      ],
      "metadata": {
        "id": "u9hpPlfJYrKf"
      }
    },
    {
      "cell_type": "markdown",
      "source": [
        "\n",
        "**19. Explain the purpose of `__str__` and `__repr__` methods in Python**\n",
        ">`__str__` returns a user-friendly string version of the object (for print).\n",
        "`__repr__` returns an official string representation useful for debugging.\n",
        "If both are defined, `print(obj)` uses `__str__`, else it falls back to `__repr__`.\n",
        "\n",
        "---\n",
        "\n",
        "**20. What is the significance of the `super()` function in Python?**\n",
        ">`super()` is used to call methods of the parent class, especially in inheritance.\n",
        "It allows extending or modifying inherited methods without directly naming the base class.\n",
        "\n",
        "---\n",
        "\n",
        "**21. What is the significance of the `__del__` method in Python?**\n",
        ">`__del__` is a destructor method called when an object is deleted or garbage collected.\n",
        "It is used to clean up resources, but should be used carefully as it's not always predictable.\n",
        "\n",
        "---\n",
        "\n",
        "**22. What is the difference between `@staticmethod` and `@classmethod` in Python?**\n",
        ">`@staticmethod` does not take any implicit argument (no `self` or `cls`).\n",
        "`@classmethod` takes `cls` as the first parameter and can access/modify class state.\n",
        "\n",
        "---\n",
        "\n",
        "**23. How does polymorphism work in Python with inheritance?**\n",
        ">In inheritance, child classes can override parent methods.\n",
        "Python calls the appropriate method based on the object type at runtime, enabling polymorphism.\n",
        "\n",
        "---\n",
        "\n",
        "**24. What is method chaining in Python OOP?**\n",
        ">Method chaining allows calling multiple methods on the same object in a single line.\n",
        "This works by having each method return `self`.\n",
        "Example: `obj.setA().setB().show()`.\n",
        "\n",
        "---\n",
        "\n",
        "**25. What is the purpose of the `__call__` method in Python?**\n",
        ">`__call__` allows an object to be called like a function.\n",
        "It defines behavior when an instance is followed by `()`.\n",
        "Useful in decorators, stateful functions, and advanced OOP patterns.\n",
        "\n",
        "\n"
      ],
      "metadata": {
        "id": "YvOmU7DnZGEL"
      }
    },
    {
      "cell_type": "code",
      "source": [
        "#Practical Questions:\n",
        "#1) Create a parent class Animal with a method speak() that prints a generic message. Create a child class Dog\n",
        "#that overrides the speak() method to print \"Bark!\n",
        "\n",
        "class Animal:\n",
        "    def speak(self):\n",
        "        print(\"The animal makes a sound.\")\n",
        "\n",
        "class Dog(Animal):\n",
        "    def speak(self):\n",
        "        print(\"Bark!\")\n",
        "\n",
        "# Example usage\n",
        "a = Animal()\n",
        "a.speak()\n",
        "\n",
        "d = Dog()\n",
        "d.speak()\n"
      ],
      "metadata": {
        "colab": {
          "base_uri": "https://localhost:8080/"
        },
        "id": "wmKykXpHZdol",
        "outputId": "699427b4-35a4-4bc7-8e59-d438aa17c088"
      },
      "execution_count": 1,
      "outputs": [
        {
          "output_type": "stream",
          "name": "stdout",
          "text": [
            "The animal makes a sound.\n",
            "Bark!\n"
          ]
        }
      ]
    },
    {
      "cell_type": "code",
      "source": [
        "#2) Write a program to create an abstract class Shape with a method area(). Derive classes Circle and Rectangle\n",
        "#from it and implement the area() method in both.\n",
        "\n",
        "from abc import ABC, abstractmethod\n",
        "import math\n",
        "\n",
        "class Shape(ABC):\n",
        "    @abstractmethod\n",
        "    def area(self):\n",
        "        pass\n",
        "\n",
        "class Circle(Shape):\n",
        "    def __init__(self, radius):\n",
        "        self.radius = radius\n",
        "\n",
        "    def area(self):\n",
        "        return math.pi * self.radius ** 2\n",
        "\n",
        "class Rectangle(Shape):\n",
        "    def __init__(self, length, width):\n",
        "        self.length = length\n",
        "        self.width = width\n",
        "\n",
        "    def area(self):\n",
        "        return self.length * self.width\n",
        "\n",
        "# Example usage\n",
        "c = Circle(5)\n",
        "print(\"Circle area:\", c.area())\n",
        "\n",
        "r = Rectangle(4, 6)\n",
        "print(\"Rectangle area:\", r.area())\n"
      ],
      "metadata": {
        "colab": {
          "base_uri": "https://localhost:8080/"
        },
        "id": "NAE8dXVGaJPK",
        "outputId": "c233106b-76a3-49b7-fe51-d6600cb79544"
      },
      "execution_count": 2,
      "outputs": [
        {
          "output_type": "stream",
          "name": "stdout",
          "text": [
            "Circle area: 78.53981633974483\n",
            "Rectangle area: 24\n"
          ]
        }
      ]
    },
    {
      "cell_type": "code",
      "source": [
        "#3) Implement a multi-level inheritance scenario where a class Vehicle has an attribute type. Derive a class Car\n",
        "#and further derive a class ElectricCar that adds a battery attribute\n",
        "\n",
        "class Vehicle:\n",
        "    def __init__(self, type):\n",
        "        self.type = type\n",
        "\n",
        "class Car(Vehicle):\n",
        "    def __init__(self, type, brand):\n",
        "        super().__init__(type)\n",
        "        self.brand = brand\n",
        "\n",
        "class ElectricCar(Car):\n",
        "    def __init__(self, type, brand, battery):\n",
        "        super().__init__(type, brand)\n",
        "        self.battery = battery\n",
        "\n",
        "# Example\n",
        "e = ElectricCar(\"Four Wheeler\", \"Tesla\", \"75 kWh\")\n",
        "print(e.type, e.brand, e.battery)\n"
      ],
      "metadata": {
        "colab": {
          "base_uri": "https://localhost:8080/"
        },
        "id": "g93-OvrfaeED",
        "outputId": "9c47137a-71f6-4e81-d9d3-b1f8d6d3b7f8"
      },
      "execution_count": 3,
      "outputs": [
        {
          "output_type": "stream",
          "name": "stdout",
          "text": [
            "Four Wheeler Tesla 75 kWh\n"
          ]
        }
      ]
    },
    {
      "cell_type": "code",
      "source": [
        "#4) Demonstrate polymorphism by creating a base class Bird with a method fly(). Create two derived classes\n",
        "#Sparrow and Penguin that override the fly() method.\n",
        "\n",
        "class Bird:\n",
        "    def fly(self):\n",
        "        print(\"Bird is flying\")\n",
        "\n",
        "class Sparrow(Bird):\n",
        "    def fly(self):\n",
        "        print(\"Sparrow flies high\")\n",
        "\n",
        "class Penguin(Bird):\n",
        "    def fly(self):\n",
        "        print(\"Penguin can't fly\")\n",
        "\n",
        "# Polymorphism in action\n",
        "birds = [Sparrow(), Penguin()]\n",
        "for bird in birds:\n",
        "    bird.fly()\n",
        "\n"
      ],
      "metadata": {
        "colab": {
          "base_uri": "https://localhost:8080/"
        },
        "id": "OpGoIkJya93E",
        "outputId": "2d34b5cb-14ad-4d16-e9da-f4fe7c80db1d"
      },
      "execution_count": 4,
      "outputs": [
        {
          "output_type": "stream",
          "name": "stdout",
          "text": [
            "Sparrow flies high\n",
            "Penguin can't fly\n"
          ]
        }
      ]
    },
    {
      "cell_type": "code",
      "source": [
        "#5). Write a program to demonstrate encapsulation by creating a class BankAccount with private attributes\n",
        "#balance and methods to deposit, withdraw, and check balance.\n",
        "\n",
        "class BankAccount:\n",
        "    def __init__(self, initial_balance=0):\n",
        "        self.__balance = initial_balance  # private attribute\n",
        "\n",
        "    def deposit(self, amount):\n",
        "        if amount > 0:\n",
        "            self.__balance += amount\n",
        "\n",
        "    def withdraw(self, amount):\n",
        "        if 0 < amount <= self.__balance:\n",
        "            self.__balance -= amount\n",
        "\n",
        "    def check_balance(self):\n",
        "        return self.__balance\n",
        "# Example usage\n",
        "acc = BankAccount(1000)\n",
        "acc.deposit(500)\n",
        "acc.withdraw(200)\n",
        "print(\"Balance:\", acc.check_balance())"
      ],
      "metadata": {
        "colab": {
          "base_uri": "https://localhost:8080/"
        },
        "id": "tKce5-tAbKF7",
        "outputId": "39984f6c-0697-48d3-d251-c05b5af9ba00"
      },
      "execution_count": 7,
      "outputs": [
        {
          "output_type": "stream",
          "name": "stdout",
          "text": [
            "Balance: 1300\n"
          ]
        }
      ]
    },
    {
      "cell_type": "code",
      "source": [
        "#6). Demonstrate runtime polymorphism using a method play() in a base class Instrument. Derive classes Guitar\n",
        "#and Piano that implement their own version of play().\n",
        "\n",
        "class Instrument:\n",
        "    def play(self):\n",
        "        print(\"Instrument is playing\")\n",
        "\n",
        "class Guitar(Instrument):\n",
        "    def play(self):\n",
        "        print(\"Guitar is strumming\")\n",
        "\n",
        "class Piano(Instrument):\n",
        "    def play(self):\n",
        "        print(\"Piano is playing notes\")\n",
        "\n",
        "# Runtime polymorphism\n",
        "instruments = [Guitar(), Piano()]\n",
        "for inst in instruments:\n",
        "    inst.play()\n",
        "\n"
      ],
      "metadata": {
        "colab": {
          "base_uri": "https://localhost:8080/"
        },
        "id": "syAdn49Kbgn-",
        "outputId": "b805daf6-3a30-43af-cac4-c58a68012f05"
      },
      "execution_count": 8,
      "outputs": [
        {
          "output_type": "stream",
          "name": "stdout",
          "text": [
            "Guitar is strumming\n",
            "Piano is playing notes\n"
          ]
        }
      ]
    },
    {
      "cell_type": "code",
      "source": [
        "#7)Create a class MathOperations with a class method add_numbers() to add two numbers and a static\n",
        "#method subtract_numbers() to subtract two numbers.\n",
        "\n",
        "class MathOperations:\n",
        "    @classmethod\n",
        "    def add_numbers(cls, a, b):\n",
        "        return a + b\n",
        "\n",
        "    @staticmethod\n",
        "    def subtract_numbers(a, b):\n",
        "        return a - b\n",
        "\n",
        "# Example usage\n",
        "print(MathOperations.add_numbers(10, 5))\n",
        "print(MathOperations.subtract_numbers(10, 5))\n"
      ],
      "metadata": {
        "colab": {
          "base_uri": "https://localhost:8080/"
        },
        "id": "6nPrtxBebt4H",
        "outputId": "f39004d5-2b85-4370-f242-f9a4518c326c"
      },
      "execution_count": 9,
      "outputs": [
        {
          "output_type": "stream",
          "name": "stdout",
          "text": [
            "15\n",
            "5\n"
          ]
        }
      ]
    },
    {
      "cell_type": "code",
      "source": [
        "#8)Implement a class Person with a class method to count the total number of persons created.\n",
        "\n",
        "class Person:\n",
        "    count = 0  # Class variable\n",
        "\n",
        "    def __init__(self, name):\n",
        "        self.name = name\n",
        "        Person.count += 1\n",
        "\n",
        "    @classmethod\n",
        "    def total_persons(cls):\n",
        "        return cls.count\n",
        "\n",
        "# Example usage\n",
        "p1 = Person(\"Alice\")\n",
        "p2 = Person(\"Bob\")\n",
        "print(\"Total persons:\", Person.total_persons())\n"
      ],
      "metadata": {
        "colab": {
          "base_uri": "https://localhost:8080/"
        },
        "id": "oXfrORtDcAGd",
        "outputId": "1f0c0c9a-21cb-4be1-f2c9-56f1ed497cd3"
      },
      "execution_count": 10,
      "outputs": [
        {
          "output_type": "stream",
          "name": "stdout",
          "text": [
            "Total persons: 2\n"
          ]
        }
      ]
    },
    {
      "cell_type": "code",
      "source": [
        "#9)Write a class Fraction with attributes numerator and denominator. Override the str method to display the\n",
        "#fraction as \"numerator/denominator\".\n",
        "\n",
        "class Fraction:\n",
        "    def __init__(self, numerator, denominator):\n",
        "        self.numerator = numerator\n",
        "        self.denominator = denominator\n",
        "\n",
        "    def __str__(self):\n",
        "        return f\"{self.numerator}/{self.denominator}\"\n",
        "\n",
        "# Example usage\n",
        "f = Fraction(3, 4)\n",
        "print(f)\n"
      ],
      "metadata": {
        "colab": {
          "base_uri": "https://localhost:8080/"
        },
        "id": "jCkO-FlZcMoi",
        "outputId": "06223e6c-a128-4c99-b283-a2a1ba67c0eb"
      },
      "execution_count": 11,
      "outputs": [
        {
          "output_type": "stream",
          "name": "stdout",
          "text": [
            "3/4\n"
          ]
        }
      ]
    },
    {
      "cell_type": "code",
      "source": [
        "#10). Demonstrate operator overloading by creating a class Vector and overriding the add method to add two\n",
        "#vectors.\n",
        "\n",
        "class Vector:\n",
        "    def __init__(self, x, y):\n",
        "        self.x = x\n",
        "        self.y = y\n",
        "\n",
        "    def __add__(self, other):\n",
        "        return Vector(self.x + other.x, self.y + other.y)\n",
        "\n",
        "    def __str__(self):\n",
        "        return f\"({self.x}, {self.y})\"\n",
        "\n",
        "# Example usage\n",
        "v1 = Vector(2, 3)\n",
        "v2 = Vector(4, 5)\n",
        "v3 = v1 + v2\n",
        "print(v3)\n"
      ],
      "metadata": {
        "colab": {
          "base_uri": "https://localhost:8080/"
        },
        "id": "XpCitg3KcbnI",
        "outputId": "610d0103-5a08-498f-b27e-fda951097caa"
      },
      "execution_count": 12,
      "outputs": [
        {
          "output_type": "stream",
          "name": "stdout",
          "text": [
            "(6, 8)\n"
          ]
        }
      ]
    },
    {
      "cell_type": "code",
      "source": [
        "#11)Create a class Person with attributes name and age. Add a method greet() that prints \"Hello, my name is\n",
        "#{name} and I am {age} years old.\"\n",
        "\n",
        "class Person:\n",
        "    def __init__(self, name, age):\n",
        "        self.name = name\n",
        "        self.age = age\n",
        "\n",
        "    def greet(self):\n",
        "        print(f\"Hello, my name is {self.name} and I am {self.age} years old.\")\n",
        "\n",
        "# Example usage\n",
        "p = Person(\"Alice\", 25)\n",
        "p.greet()\n"
      ],
      "metadata": {
        "colab": {
          "base_uri": "https://localhost:8080/"
        },
        "id": "E7dHNem6co4_",
        "outputId": "425fced9-b3bb-4686-d0e2-975cfcb7a88d"
      },
      "execution_count": 13,
      "outputs": [
        {
          "output_type": "stream",
          "name": "stdout",
          "text": [
            "Hello, my name is Alice and I am 25 years old.\n"
          ]
        }
      ]
    },
    {
      "cell_type": "code",
      "source": [
        "#12) Implement a class Student with attributes name and grades. Create a method average_grade() to compute\n",
        "#the average of the grades.\n",
        "\n",
        "class Student:\n",
        "    def __init__(self, name, grades):\n",
        "        self.name = name\n",
        "        self.grades = grades\n",
        "\n",
        "    def average_grade(self):\n",
        "        return sum(self.grades) / len(self.grades)\n",
        "\n",
        "# Example usage\n",
        "s = Student(\"Rahul\", [85, 90, 78])\n",
        "print(\"Average Grade:\", s.average_grade())\n"
      ],
      "metadata": {
        "colab": {
          "base_uri": "https://localhost:8080/"
        },
        "id": "XK6PDObTc3bB",
        "outputId": "2b43ceb3-4a65-44de-cbc9-caa51f4c03df"
      },
      "execution_count": 14,
      "outputs": [
        {
          "output_type": "stream",
          "name": "stdout",
          "text": [
            "Average Grade: 84.33333333333333\n"
          ]
        }
      ]
    },
    {
      "cell_type": "code",
      "source": [
        "#13)Create a class Rectangle with methods set_dimensions() to set the dimensions and area() to calculate the area.\n",
        "\n",
        "class Rectangle:\n",
        "    def set_dimensions(self, length, width):\n",
        "        self.length = length\n",
        "        self.width = width\n",
        "\n",
        "    def area(self):\n",
        "        return self.length * self.width\n",
        "\n",
        "# Example usage\n",
        "r = Rectangle()\n",
        "r.set_dimensions(5, 4)\n",
        "print(\"Area:\", r.area())\n",
        "\n"
      ],
      "metadata": {
        "colab": {
          "base_uri": "https://localhost:8080/"
        },
        "id": "pLIdMKn4dGXu",
        "outputId": "dab11271-6e24-4202-d2ed-dc382fc5eff5"
      },
      "execution_count": 15,
      "outputs": [
        {
          "output_type": "stream",
          "name": "stdout",
          "text": [
            "Area: 20\n"
          ]
        }
      ]
    },
    {
      "cell_type": "code",
      "source": [
        "#14) Create a class Employee with a method calculate_salary() that computes the salary based on hours worked\n",
        "#and hourly rate. Create a derived class Manager that adds a bonus to the salary.\n",
        "\n",
        "class Employee:\n",
        "    def calculate_salary(self, hours_worked, hourly_rate):\n",
        "        return hours_worked * hourly_rate\n",
        "\n",
        "class Manager(Employee):\n",
        "    def calculate_salary(self, hours_worked, hourly_rate, bonus):\n",
        "        base_salary = super().calculate_salary(hours_worked, hourly_rate)\n",
        "        return base_salary + bonus\n",
        "\n",
        "# Example usage\n",
        "e = Employee()\n",
        "print(\"Employee Salary:\", e.calculate_salary(40, 200))  # Output: 8000\n",
        "\n",
        "m = Manager()\n",
        "print(\"Manager Salary:\", m.calculate_salary(40, 200, 5000))  # Output: 13000\n"
      ],
      "metadata": {
        "colab": {
          "base_uri": "https://localhost:8080/"
        },
        "id": "FyCyjCvldZjF",
        "outputId": "d4bf07b7-67b7-4494-9566-d1ae84f2d0b3"
      },
      "execution_count": 16,
      "outputs": [
        {
          "output_type": "stream",
          "name": "stdout",
          "text": [
            "Employee Salary: 8000\n",
            "Manager Salary: 13000\n"
          ]
        }
      ]
    },
    {
      "cell_type": "code",
      "source": [
        "#15) Create a class Product with attributes name, price, and quantity. Implement a method total_price() that\n",
        "#calculates the total price of the product.\n",
        "\n",
        "class Product:\n",
        "    def __init__(self, name, price, quantity):\n",
        "        self.name = name\n",
        "        self.price = price\n",
        "        self.quantity = quantity\n",
        "\n",
        "    def total_price(self):\n",
        "        return self.price * self.quantity\n",
        "\n",
        "# Example usage\n",
        "p = Product(\"Pen\", 10, 5)\n",
        "print(\"Total Price:\", p.total_price())  # Output: Total Price: 50\n"
      ],
      "metadata": {
        "colab": {
          "base_uri": "https://localhost:8080/"
        },
        "id": "wv6M2jx2dmyh",
        "outputId": "7efde43e-6d1e-4870-ef12-ab2bc98c9afc"
      },
      "execution_count": 17,
      "outputs": [
        {
          "output_type": "stream",
          "name": "stdout",
          "text": [
            "Total Price: 50\n"
          ]
        }
      ]
    },
    {
      "cell_type": "code",
      "source": [
        "#16) Create a class Animal with an abstract method sound(). Create two derived classes Cow and Sheep that\n",
        "#implement the sound() method.\n",
        "\n",
        "from abc import ABC, abstractmethod\n",
        "\n",
        "class Animal(ABC):\n",
        "    @abstractmethod\n",
        "    def sound(self):\n",
        "        pass\n",
        "\n",
        "class Cow(Animal):\n",
        "    def sound(self):\n",
        "        print(\"Moo\")\n",
        "\n",
        "class Sheep(Animal):\n",
        "    def sound(self):\n",
        "        print(\"Baa\")\n",
        "\n",
        "# Example usage\n",
        "c = Cow()\n",
        "s = Sheep()\n",
        "c.sound()\n",
        "s.sound()\n"
      ],
      "metadata": {
        "colab": {
          "base_uri": "https://localhost:8080/"
        },
        "id": "vb1QztMqdxXn",
        "outputId": "3b6b0fec-29a5-42aa-be95-a282acaf25ed"
      },
      "execution_count": 18,
      "outputs": [
        {
          "output_type": "stream",
          "name": "stdout",
          "text": [
            "Moo\n",
            "Baa\n"
          ]
        }
      ]
    },
    {
      "cell_type": "code",
      "source": [
        "#17) Create a class Book with attributes title, author, and year_published. Add a method get_book_info() that\n",
        "#returns a formatted string with the book's details.\n",
        "\n",
        "class Book:\n",
        "    def __init__(self, title, author, year_published):\n",
        "        self.title = title\n",
        "        self.author = author\n",
        "        self.year_published = year_published\n",
        "\n",
        "    def get_book_info(self):\n",
        "        return f\"'{self.title}' by {self.author}, published in {self.year_published}\"\n",
        "\n",
        "# Example usage\n",
        "b = Book(\"The Alchemist\", \"Paulo Coelho\", 1988)\n",
        "print(b.get_book_info())\n"
      ],
      "metadata": {
        "colab": {
          "base_uri": "https://localhost:8080/"
        },
        "id": "q3yxcR4ZeAfz",
        "outputId": "f0f588dd-835d-466c-d6a7-456b148f0216"
      },
      "execution_count": 19,
      "outputs": [
        {
          "output_type": "stream",
          "name": "stdout",
          "text": [
            "'The Alchemist' by Paulo Coelho, published in 1988\n"
          ]
        }
      ]
    },
    {
      "cell_type": "code",
      "source": [
        "#18)Create a class House with attributes address and price. Create a derived class Mansion that adds an\n",
        "#attribute number_of_rooms.\n",
        "\n",
        "class House:\n",
        "    def __init__(self, address, price):\n",
        "        self.address = address\n",
        "        self.price = price\n",
        "\n",
        "class Mansion(House):\n",
        "    def __init__(self, address, price, number_of_rooms):\n",
        "        super().__init__(address, price)\n",
        "        self.number_of_rooms = number_of_rooms\n",
        "\n",
        "# Example usage\n",
        "m = Mansion(\"123 Luxury St\", 5000000, 10)\n",
        "print(m.address, m.price, m.number_of_rooms)\n"
      ],
      "metadata": {
        "colab": {
          "base_uri": "https://localhost:8080/"
        },
        "id": "L9dxgSxmePWd",
        "outputId": "272fafa6-e81a-4c7e-9f08-df6f241cc770"
      },
      "execution_count": 20,
      "outputs": [
        {
          "output_type": "stream",
          "name": "stdout",
          "text": [
            "123 Luxury St 5000000 10\n"
          ]
        }
      ]
    }
  ]
}